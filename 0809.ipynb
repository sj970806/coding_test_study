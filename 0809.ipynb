{
 "cells": [
  {
   "cell_type": "markdown",
   "id": "d4d881ec",
   "metadata": {},
   "source": [
    "# 문제 1\n",
    "- 프린터\n",
    "- https://school.programmers.co.kr/learn/courses/30/lessons/42587#"
   ]
  },
  {
   "cell_type": "markdown",
   "id": "58767293",
   "metadata": {},
   "source": [
    "```문제 설명```\n",
    "```\n",
    "일반적인 프린터는 인쇄 요청이 들어온 순서대로 인쇄합니다. 그렇기 때문에 중요한 문서가 나중에 인쇄될 수 있습니다. 이런 문제를 보완하기 위해 중요도가 높은 문서를 먼저 인쇄하는 프린터를 개발했습니다. 이 새롭게 개발한 프린터는 아래와 같은 방식으로 인쇄 작업을 수행합니다.\n",
    "\n",
    "1. 인쇄 대기목록의 가장 앞에 있는 문서(J)를 대기목록에서 꺼냅니다.\n",
    "2. 나머지 인쇄 대기목록에서 J보다 중요도가 높은 문서가 한 개라도 존재하면 J를 대기목록의 가장 마지막에 넣습니다.\n",
    "3. 그렇지 않으면 J를 인쇄합니다.\n",
    "예를 들어, 4개의 문서(A, B, C, D)가 순서대로 인쇄 대기목록에 있고 중요도가 2 1 3 2 라면 C D A B 순으로 인쇄하게 됩니다.\n",
    "\n",
    "내가 인쇄를 요청한 문서가 몇 번째로 인쇄되는지 알고 싶습니다. 위의 예에서 C는 1번째로, A는 3번째로 인쇄됩니다.\n",
    "\n",
    "현재 대기목록에 있는 문서의 중요도가 순서대로 담긴 배열 priorities와 내가 인쇄를 요청한 문서가 현재 대기목록의 어떤 위치에 있는지를 알려주는 location이 매개변수로 주어질 때, 내가 인쇄를 요청한 문서가 몇 번째로 인쇄되는지 return 하도록 solution 함수를 작성해주세요.\n",
    "```\n",
    "```제한사항```\n",
    "```\n",
    "현재 대기목록에는 1개 이상 100개 이하의 문서가 있습니다.\n",
    "인쇄 작업의 중요도는 1~9로 표현하며 숫자가 클수록 중요하다는 뜻입니다.\n",
    "location은 0 이상 (현재 대기목록에 있는 작업 수 - 1) 이하의 값을 가지며 대기목록의 가장 앞에 있으면 0, 두 번째에 있으면 1로 표현합니다.\n",
    "```\n",
    "```입출력 예```\n",
    "```\n",
    "priorities\t   location  \treturn\n",
    "[2, 1, 3, 2]    \t2      \t1\n",
    "[1, 1, 9, 1, 1, 1]\t0\t    5\n",
    "```\n",
    "```입출력 예 설명```\n",
    "```\n",
    "예제 #1\n",
    "\n",
    "문제에 나온 예와 같습니다.\n",
    "\n",
    "예제 #2\n",
    "\n",
    "6개의 문서(A, B, C, D, E, F)가 인쇄 대기목록에 있고 중요도가 1 1 9 1 1 1 이므로 C D E F A B 순으로 인쇄합니다.\n",
    "```"
   ]
  },
  {
   "cell_type": "code",
   "execution_count": null,
   "id": "358ebe04",
   "metadata": {},
   "outputs": [],
   "source": [
    "from collections import deque\n",
    "def solution(priorities, location):\n",
    "    q = deque(priorities)\n",
    "    cnt = 0\n",
    "    \n",
    "    while len(q) > 1:\n",
    "        now = q.popleft()\n",
    "        if q and now >= max(q):\n",
    "            cnt += 1\n",
    "            if location != 0:\n",
    "                location -= 1\n",
    "            else:\n",
    "                return cnt\n",
    "        else:\n",
    "            if location == 0:\n",
    "                location = len(q)\n",
    "            else:\n",
    "                location -= 1\n",
    "            q.append(now)\n",
    "    \n",
    "    if len(q) == 1:\n",
    "        return cnt+1\n",
    "        "
   ]
  },
  {
   "cell_type": "markdown",
   "id": "808f4097",
   "metadata": {},
   "source": [
    "# 문제 2\n",
    "- 순위\n",
    "- https://school.programmers.co.kr/learn/courses/30/lessons/49191"
   ]
  },
  {
   "cell_type": "markdown",
   "id": "ec5b92fa",
   "metadata": {},
   "source": [
    "```문제 설명```\n",
    "```\n",
    "n명의 권투선수가 권투 대회에 참여했고 각각 1번부터 n번까지 번호를 받았습니다. 권투 경기는 1대1 방식으로 진행이 되고, 만약 A 선수가 B 선수보다 실력이 좋다면 A 선수는 B 선수를 항상 이깁니다. 심판은 주어진 경기 결과를 가지고 선수들의 순위를 매기려 합니다. 하지만 몇몇 경기 결과를 분실하여 정확하게 순위를 매길 수 없습니다.\n",
    "\n",
    "선수의 수 n, 경기 결과를 담은 2차원 배열 results가 매개변수로 주어질 때 정확하게 순위를 매길 수 있는 선수의 수를 return 하도록 solution 함수를 작성해주세요.\n",
    "```\n",
    "```제한사항```\n",
    "```\n",
    "선수의 수는 1명 이상 100명 이하입니다.\n",
    "경기 결과는 1개 이상 4,500개 이하입니다.\n",
    "results 배열 각 행 [A, B]는 A 선수가 B 선수를 이겼다는 의미입니다.\n",
    "모든 경기 결과에는 모순이 없습니다.\n",
    "```\n",
    "```입출력 예```\n",
    "```\n",
    "n\tresults\treturn\n",
    "5\t[[4, 3], [4, 2], [3, 2], [1, 2], [2, 5]]\t2\n",
    "```\n",
    "```입출력 예 설명```\n",
    "```\n",
    "2번 선수는 [1, 3, 4] 선수에게 패배했고 5번 선수에게 승리했기 때문에 4위입니다.\n",
    "5번 선수는 4위인 2번 선수에게 패배했기 때문에 5위입니다.\n",
    "```"
   ]
  },
  {
   "cell_type": "code",
   "execution_count": null,
   "id": "417c4a55",
   "metadata": {},
   "outputs": [],
   "source": []
  }
 ],
 "metadata": {
  "kernelspec": {
   "display_name": "Python 3 (ipykernel)",
   "language": "python",
   "name": "python3"
  },
  "language_info": {
   "codemirror_mode": {
    "name": "ipython",
    "version": 3
   },
   "file_extension": ".py",
   "mimetype": "text/x-python",
   "name": "python",
   "nbconvert_exporter": "python",
   "pygments_lexer": "ipython3",
   "version": "3.9.7"
  }
 },
 "nbformat": 4,
 "nbformat_minor": 5
}
